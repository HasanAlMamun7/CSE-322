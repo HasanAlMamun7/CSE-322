{
 "cells": [
  {
   "cell_type": "code",
   "execution_count": 6,
   "id": "dd43a5b9-8410-41f3-bbab-e6e663fb6c53",
   "metadata": {},
   "outputs": [],
   "source": [
    "from selenium.common.exceptions import NoSuchElementException, ElementClickInterceptedException\n",
    "from selenium import webdriver\n",
    "import time\n",
    "from selenium.webdriver.support.ui import Select\n",
    "import unittest"
   ]
  },
  {
   "cell_type": "code",
   "execution_count": 15,
   "id": "e8e5b1d2-7c66-4e9f-9434-cd424ff7cf1c",
   "metadata": {},
   "outputs": [],
   "source": [
    "# open webpage & get title\n",
    "options = webdriver.ChromeOptions()\n",
    "driver = webdriver.Chrome(executable_path='chromedriver.exe', options=options)\n",
    "driver.set_window_size(1120, 1000) \n",
    "driver.get(\"http://127.0.0.1:8000/\")\n",
    "driver.find_element_by_id('query')\n",
    "driver.title"
   ]
  },
  {
   "cell_type": "code",
   "execution_count": 27,
   "id": "5739745f-82c9-4bce-aac7-6c703e402eb9",
   "metadata": {},
   "outputs": [
    {
     "ename": "AttributeError",
     "evalue": "'WebDriver' object has no attribute 'find_element_by_full_path'",
     "output_type": "error",
     "traceback": [
      "\u001b[1;31m---------------------------------------------------------------------------\u001b[0m",
      "\u001b[1;31mAttributeError\u001b[0m                            Traceback (most recent call last)",
      "Input \u001b[1;32mIn [27]\u001b[0m, in \u001b[0;36m<module>\u001b[1;34m\u001b[0m\n\u001b[1;32m----> 1\u001b[0m full_name \u001b[38;5;241m=\u001b[39m \u001b[43mdriver\u001b[49m\u001b[38;5;241;43m.\u001b[39;49m\u001b[43mfind_element_by_full_path\u001b[49m(\u001b[38;5;124m'\u001b[39m\u001b[38;5;124m/html/body/div[2]/div/div/div/form/input[2]\u001b[39m\u001b[38;5;124m'\u001b[39m)\n\u001b[0;32m      2\u001b[0m full_name\u001b[38;5;241m.\u001b[39mclick\n\u001b[0;32m      3\u001b[0m name \u001b[38;5;241m=\u001b[39m \u001b[38;5;124m'\u001b[39m\u001b[38;5;124mhasan\u001b[39m\u001b[38;5;124m'\u001b[39m\n",
      "\u001b[1;31mAttributeError\u001b[0m: 'WebDriver' object has no attribute 'find_element_by_full_path'"
     ]
    }
   ],
   "source": [
    "full_name = driver.find_element_by_xpath('/html/body/div[2]/div/div/div/form/input[2]')\n",
    "full_name.click\n",
    "name = 'hasan'\n",
    "full_name.send_keys(name)\n",
    "text = full_name.get_attribute(\"value\")\n",
    "if text==name:\n",
    "    print('passed for test 1.')\n"
   ]
  },
  {
   "cell_type": "code",
   "execution_count": 17,
   "id": "8b553dcd-57a9-47b0-8d5d-4a5ced3d099d",
   "metadata": {},
   "outputs": [
    {
     "ename": "TypeError",
     "evalue": "get() missing 1 required positional argument: 'url'",
     "output_type": "error",
     "traceback": [
      "\u001b[1;31m---------------------------------------------------------------------------\u001b[0m",
      "\u001b[1;31mTypeError\u001b[0m                                 Traceback (most recent call last)",
      "Input \u001b[1;32mIn [19]\u001b[0m, in \u001b[0;36m<module>\u001b[1;34m\u001b[0m\n\u001b[1;32m----> 1\u001b[0m \u001b[43mdriver\u001b[49m\u001b[38;5;241;43m.\u001b[39;49m\u001b[43mget\u001b[49m\u001b[43m(\u001b[49m\u001b[43m)\u001b[49m\n\u001b[0;32m      2\u001b[0m search_box\u001b[38;5;241m.\u001b[39mis_displayed()\n",
      "\u001b[1;31mTypeError\u001b[0m: get() missing 1 required positional argument: 'url'"
     ]
    }
   ],
   "source": [
    " driver.get()\n",
    "search_box.is_displayed()"
   ]
  },
  {
   "cell_type": "code",
   "execution_count": null,
   "id": "bab13faa-d3fe-4cf4-b405-95774668da97",
   "metadata": {},
   "outputs": [],
   "source": []
  },
  {
   "cell_type": "code",
   "execution_count": null,
   "id": "79fec7e1-c89d-4d7e-91cb-864ed3b8388b",
   "metadata": {},
   "outputs": [],
   "source": []
  },
  {
   "cell_type": "code",
   "execution_count": null,
   "id": "a861cce6-dec6-4b3c-b8d4-1ac86fe00fe9",
   "metadata": {},
   "outputs": [],
   "source": []
  },
  {
   "cell_type": "code",
   "execution_count": null,
   "id": "8446ddac-260d-48bd-88ed-b6405a3fc1ac",
   "metadata": {},
   "outputs": [],
   "source": []
  }
 ],
 "metadata": {
  "kernelspec": {
   "display_name": "Python 3 (ipykernel)",
   "language": "python",
   "name": "python3"
  },
  "language_info": {
   "codemirror_mode": {
    "name": "ipython",
    "version": 3
   },
   "file_extension": ".py",
   "mimetype": "text/x-python",
   "name": "python",
   "nbconvert_exporter": "python",
   "pygments_lexer": "ipython3",
   "version": "3.9.13"
  }
 },
 "nbformat": 4,
 "nbformat_minor": 5
}
