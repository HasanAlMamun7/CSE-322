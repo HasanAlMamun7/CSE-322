{
 "cells": [
  {
   "cell_type": "code",
   "execution_count": 81,
   "id": "dd43a5b9-8410-41f3-bbab-e6e663fb6c53",
   "metadata": {},
   "outputs": [],
   "source": [
    "from selenium.common.exceptions import NoSuchElementException, ElementClickInterceptedException\n",
    "from selenium import webdriver\n",
    "import time\n",
    "from selenium.webdriver.support.ui import Select\n",
    "import unittest"
   ]
  },
  {
   "cell_type": "code",
   "execution_count": 82,
   "id": "e8e5b1d2-7c66-4e9f-9434-cd424ff7cf1c",
   "metadata": {},
   "outputs": [
    {
     "data": {
      "text/plain": [
       "'Simple E-commerce'"
      ]
     },
     "execution_count": 82,
     "metadata": {},
     "output_type": "execute_result"
    }
   ],
   "source": [
    "# open webpage & get title\n",
    "options = webdriver.ChromeOptions()\n",
    "driver = webdriver.Chrome(executable_path='chromedriver.exe', options=options)\n",
    "driver.set_window_size(1120, 1000) \n",
    "driver.get(\"http://127.0.0.1:8000/customerlogin\")\n",
    "driver.find_element_by_id('query')\n",
    "driver.title"
   ]
  },
  {
   "cell_type": "code",
   "execution_count": 83,
   "id": "5739745f-82c9-4bce-aac7-6c703e402eb9",
   "metadata": {},
   "outputs": [],
   "source": [
    "# #first name\n",
    "# full_name = driver.find_element_by_xpath('//*[@id=\"id_first_name\"]')\n",
    "# full_name.click\n",
    "# name = 'fahad'\n",
    "# full_name.send_keys(name)\n",
    "# text = full_name.get_attribute(\"value\")\n",
    "# if text==name:\n",
    "#     print('passed for test 1.')\n",
    "#     # file_object.write('passed for test one\\n')\n",
    "#     # file_object.clone()\n"
   ]
  },
  {
   "cell_type": "code",
   "execution_count": 84,
   "id": "8b553dcd-57a9-47b0-8d5d-4a5ced3d099d",
   "metadata": {},
   "outputs": [
    {
     "name": "stdout",
     "output_type": "stream",
     "text": [
      "passed for test 4.\n"
     ]
    }
   ],
   "source": [
    "#input username\n",
    "full_name = driver.find_element_by_xpath('//*[@id=\"id_username\"]')\n",
    "full_name.click\n",
    "username='abrar777'\n",
    "full_name.send_keys(username)\n",
    "text = full_name.get_attribute(\"value\")\n",
    "if text==username:\n",
    "    print('passed for test 4.')\n",
    "    # file_object.write('passed for test one\\n')\n",
    "    # file_object.clone()"
   ]
  },
  {
   "cell_type": "code",
   "execution_count": null,
   "id": "bab13faa-d3fe-4cf4-b405-95774668da97",
   "metadata": {},
   "outputs": [],
   "source": []
  },
  {
   "cell_type": "code",
   "execution_count": null,
   "id": "79fec7e1-c89d-4d7e-91cb-864ed3b8388b",
   "metadata": {},
   "outputs": [],
   "source": []
  },
  {
   "cell_type": "code",
   "execution_count": null,
   "id": "a861cce6-dec6-4b3c-b8d4-1ac86fe00fe9",
   "metadata": {},
   "outputs": [],
   "source": []
  },
  {
   "cell_type": "code",
   "execution_count": null,
   "id": "8446ddac-260d-48bd-88ed-b6405a3fc1ac",
   "metadata": {},
   "outputs": [],
   "source": []
  }
 ],
 "metadata": {
  "kernelspec": {
   "display_name": "Python 3 (ipykernel)",
   "language": "python",
   "name": "python3"
  },
  "language_info": {
   "codemirror_mode": {
    "name": "ipython",
    "version": 3
   },
   "file_extension": ".py",
   "mimetype": "text/x-python",
   "name": "python",
   "nbconvert_exporter": "python",
   "pygments_lexer": "ipython3",
   "version": "3.9.13"
  }
 },
 "nbformat": 4,
 "nbformat_minor": 5
}
